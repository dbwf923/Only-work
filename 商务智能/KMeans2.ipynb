{
 "cells": [
  {
   "cell_type": "code",
   "execution_count": 1,
   "id": "34d9f012-e753-4f54-a5e3-015f1ee16315",
   "metadata": {},
   "outputs": [],
   "source": [
    "from sklearn.cluster import KMeans\n",
    "import pandas as pd"
   ]
  },
  {
   "cell_type": "code",
   "execution_count": 2,
   "id": "8a923e39-508d-49de-a7cf-c1f5fe73034d",
   "metadata": {},
   "outputs": [],
   "source": [
    "data ={\n",
    "    'CustomerID':[1,2,3,4,5,6,7,8,9,10],\n",
    "    'Age':[19,35,26,27,19,27,33,23,45,30],\n",
    "    'AnnualIncome':[15,67,30,40,21,80,56,34,78,60],\n",
    "    'Spendingscore':[39,81,6,77,40,76,73,30,29,50],\n",
    "    'NumPurchases':[3,5,1,7,2,6,8,4,5,6]\n",
    "}\n",
    "df = pd.DataFrame(data) \n",
    "features = ['Age', 'AnnualIncome', 'Spendingscore', 'NumPurchases'] \n",
    "X = X = df[features] "
   ]
  },
  {
   "cell_type": "code",
   "execution_count": 3,
   "id": "251c6e46-7807-491c-9541-3575a720264c",
   "metadata": {},
   "outputs": [
    {
     "name": "stderr",
     "output_type": "stream",
     "text": [
      "D:\\anacon\\Lib\\site-packages\\sklearn\\cluster\\_kmeans.py:1429: UserWarning: KMeans is known to have a memory leak on Windows with MKL, when there are less chunks than available threads. You can avoid it by setting the environment variable OMP_NUM_THREADS=1.\n",
      "  warnings.warn(\n"
     ]
    }
   ],
   "source": [
    "kmeans = KMeans(n_clusters=3, random_state=0,n_init='auto').fit_predict(X)"
   ]
  },
  {
   "cell_type": "code",
   "execution_count": 4,
   "id": "83a8172d-d358-49ef-b1ad-202a71a89a73",
   "metadata": {},
   "outputs": [
    {
     "name": "stdout",
     "output_type": "stream",
     "text": [
      "   CustomerID  Age  AnnualIncome  Spendingscore  NumPurchases  Cluster\n",
      "0           1   19            15             39             3        1\n",
      "1           2   35            67             81             5        0\n",
      "2           3   26            30              6             1        1\n",
      "3           4   27            40             77             7        0\n",
      "4           5   19            21             40             2        1\n",
      "5           6   27            80             76             6        0\n",
      "6           7   33            56             73             8        0\n",
      "7           8   23            34             30             4        1\n",
      "8           9   45            78             29             5        2\n",
      "9          10   30            60             50             6        2\n"
     ]
    }
   ],
   "source": [
    "df['Cluster'] = kmeans \n",
    "print(df)"
   ]
  },
  {
   "cell_type": "code",
   "execution_count": null,
   "id": "0f186322-6742-4cbf-9a2a-fbe88535d425",
   "metadata": {},
   "outputs": [],
   "source": []
  }
 ],
 "metadata": {
  "kernelspec": {
   "display_name": "Python 3 (ipykernel)",
   "language": "python",
   "name": "python3"
  },
  "language_info": {
   "codemirror_mode": {
    "name": "ipython",
    "version": 3
   },
   "file_extension": ".py",
   "mimetype": "text/x-python",
   "name": "python",
   "nbconvert_exporter": "python",
   "pygments_lexer": "ipython3",
   "version": "3.11.7"
  }
 },
 "nbformat": 4,
 "nbformat_minor": 5
}
