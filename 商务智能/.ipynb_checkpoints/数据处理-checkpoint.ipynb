{
 "cells": [
  {
   "cell_type": "code",
   "execution_count": 1,
   "id": "e4f6ffbb-024b-4c05-aaad-a42a49fe7a33",
   "metadata": {},
   "outputs": [],
   "source": [
    " # -*- coding: utf-8 -*-\n",
    "import pandas as pd"
   ]
  },
  {
   "cell_type": "code",
   "execution_count": 2,
   "id": "ae6d38a5-d639-4b5b-b895-66bad9b369fa",
   "metadata": {},
   "outputs": [],
   "source": [
    "data = pd.read_excel(\"朝阳医院2018年销售数据.xlsx\",dtype=\"object\")"
   ]
  },
  {
   "cell_type": "code",
   "execution_count": 3,
   "id": "dd1699cd-2176-411e-8d69-96c611145aee",
   "metadata": {},
   "outputs": [
    {
     "name": "stdout",
     "output_type": "stream",
     "text": [
      "(6578, 7)\n"
     ]
    }
   ],
   "source": [
    "df = pd.DataFrame(data)\n",
    "print(df.shape)"
   ]
  },
  {
   "cell_type": "code",
   "execution_count": 4,
   "id": "d2407e2e-522a-45e1-a3be-c9bc99860556",
   "metadata": {},
   "outputs": [
    {
     "name": "stdout",
     "output_type": "stream",
     "text": [
      "RangeIndex(start=0, stop=6578, step=1)\n"
     ]
    }
   ],
   "source": [
    "print(df.index)"
   ]
  },
  {
   "cell_type": "code",
   "execution_count": 5,
   "id": "903cfb04-ec48-425a-8719-cbe696a03e64",
   "metadata": {},
   "outputs": [
    {
     "name": "stdout",
     "output_type": "stream",
     "text": [
      "Index(['购药时间', '社保卡号', '商品编码', '商品名称', '销售数量', '应收金额', '实收金额'], dtype='object')\n"
     ]
    }
   ],
   "source": [
    "print(df.columns)"
   ]
  },
  {
   "cell_type": "code",
   "execution_count": 6,
   "id": "d67bced0-b3d3-4d1d-b448-f7c94dd8b73c",
   "metadata": {},
   "outputs": [
    {
     "name": "stdout",
     "output_type": "stream",
     "text": [
      "购药时间    6576\n",
      "社保卡号    6576\n",
      "商品编码    6577\n",
      "商品名称    6577\n",
      "销售数量    6577\n",
      "应收金额    6577\n",
      "实收金额    6577\n",
      "dtype: int64\n"
     ]
    }
   ],
   "source": [
    "print(df.count())"
   ]
  },
  {
   "cell_type": "code",
   "execution_count": 7,
   "id": "5aea4199-8dd7-4fcd-9be5-dfa682350e74",
   "metadata": {},
   "outputs": [
    {
     "name": "stdout",
     "output_type": "stream",
     "text": [
      "Index(['销售时间', '社保卡号', '商品编码', '商品名称', '销售数量', '应收金额', '实收金额'], dtype='object')\n"
     ]
    }
   ],
   "source": [
    "df.rename(columns={\"购药时间\":\"销售时间\"},inplace=True)\n",
    "print(df.columns)"
   ]
  },
  {
   "cell_type": "code",
   "execution_count": 8,
   "id": "8f3e64fe-51f2-4dfa-8012-c2c411827d94",
   "metadata": {},
   "outputs": [
    {
     "name": "stdout",
     "output_type": "stream",
     "text": [
      "(6575, 7)\n"
     ]
    }
   ],
   "source": [
    "df = df.dropna()\n",
    "print(df.shape)"
   ]
  },
  {
   "cell_type": "code",
   "execution_count": 9,
   "id": "9cfd9d93-5e56-4e71-96cf-e77ba096f00a",
   "metadata": {},
   "outputs": [
    {
     "name": "stdout",
     "output_type": "stream",
     "text": [
      "销售时间     object\n",
      "社保卡号     object\n",
      "商品编码     object\n",
      "商品名称     object\n",
      "销售数量    float64\n",
      "应收金额    float64\n",
      "实收金额    float64\n",
      "dtype: object\n"
     ]
    }
   ],
   "source": [
    "df[\"销售数量\"] = df[\"销售数量\"].astype(\"f8\")\n",
    "df[\"应收金额\"] = df[\"应收金额\"].astype(\"f8\")\n",
    "df[\"实收金额\"] = df[\"实收金额\"].astype(\"f8\")\n",
    "print(df.dtypes)"
   ]
  },
  {
   "cell_type": "code",
   "execution_count": 10,
   "id": "10a419af-bb6a-4ee5-b509-940625b68559",
   "metadata": {},
   "outputs": [],
   "source": [
    "def splitsaletime(timeColser):\n",
    "    timelist = []\n",
    "    for t in timeColser:\n",
    "        timelist.append(t.split(\" \")[0])\n",
    "    timeser = pd.Series(timelist)\n",
    "    return timeser"
   ]
  },
  {
   "cell_type": "code",
   "execution_count": 11,
   "id": "3401ddd3-c947-4f48-b32a-5cfac1b7aa09",
   "metadata": {},
   "outputs": [
    {
     "name": "stdout",
     "output_type": "stream",
     "text": [
      "         销售时间           社保卡号    商品编码     商品名称  销售数量   应收金额    实收金额\n",
      "0  2018-01-01      001616528  236701  强力VC银翘片   6.0   82.8   69.00\n",
      "1  2018-01-02      001616528  236701  清热解毒口服液   1.0   28.0   24.64\n",
      "2  2018-01-06     0012602828  236701       感康   2.0   16.8   15.00\n",
      "3  2018-01-11  0010070343428  236701    三九感冒灵   1.0   28.0   28.00\n",
      "4  2018-01-15    00101554328  236701    三九感冒灵   8.0  224.0  208.00\n"
     ]
    }
   ],
   "source": [
    "t = df.loc[:,\"销售时间\"]\n",
    "timeser = splitsaletime(t)\n",
    "df.loc[:,\"销售时间\"] = timeser\n",
    "print(df.head())"
   ]
  },
  {
   "cell_type": "code",
   "execution_count": 12,
   "id": "80e435aa-c188-404e-93ee-2dd385d24a6d",
   "metadata": {},
   "outputs": [],
   "source": [
    "df.loc[:, \"销售时间\"] = pd.to_datetime(df.loc[:, \"销售时间\"], errors='coerce')"
   ]
  },
  {
   "cell_type": "code",
   "execution_count": 13,
   "id": "98f068b2-b79a-463a-91cc-cf2444b8ba56",
   "metadata": {},
   "outputs": [
    {
     "name": "stdout",
     "output_type": "stream",
     "text": [
      "销售时间     object\n",
      "社保卡号     object\n",
      "商品编码     object\n",
      "商品名称     object\n",
      "销售数量    float64\n",
      "应收金额    float64\n",
      "实收金额    float64\n",
      "dtype: object\n"
     ]
    }
   ],
   "source": [
    "print(df.dtypes)"
   ]
  },
  {
   "cell_type": "code",
   "execution_count": 14,
   "id": "fc4f825d-d8af-4222-be7a-14b1ea0325ce",
   "metadata": {},
   "outputs": [
    {
     "name": "stdout",
     "output_type": "stream",
     "text": [
      "(6549, 7)\n"
     ]
    }
   ],
   "source": [
    "df = df.dropna()\n",
    "print(df.shape)"
   ]
  },
  {
   "cell_type": "code",
   "execution_count": 15,
   "id": "3d6dbfaf-09a8-4f37-a372-04b54c02e990",
   "metadata": {},
   "outputs": [
    {
     "name": "stdout",
     "output_type": "stream",
     "text": [
      "<bound method NDFrame.head of                      销售时间           社保卡号     商品编码          商品名称  销售数量   应收金额  \\\n",
      "0     2018-01-01 00:00:00      001616528   236701       强力VC银翘片   6.0   82.8   \n",
      "3436  2018-01-01 00:00:00     0010616728   865099    硝苯地平片(心痛定)   2.0    3.4   \n",
      "1190  2018-01-01 00:00:00  0010073966328   861409  非洛地平缓释片(波依定)   5.0  162.5   \n",
      "3859  2018-01-01 00:00:00  0010073966328   866634   硝苯地平控释片(欣然)   6.0  111.0   \n",
      "3888  2018-01-01 00:00:00  0010014289328   866851   缬沙坦分散片(易达乐)   1.0   26.0   \n",
      "...                   ...            ...      ...           ...   ...    ...   \n",
      "2122  2018-07-19 00:00:00  0010081634128   861459    吲达帕胺片(寿比山)   2.0   33.0   \n",
      "5882  2018-07-19 00:00:00      001616528   861485  富马酸比索洛尔片(博苏)   1.0   16.8   \n",
      "4462  2018-07-19 00:00:00  0010014256528   871158     厄贝沙坦片(吉加)   2.0   34.0   \n",
      "864   2018-07-19 00:00:00    00101409528  2367011           开博通   2.0   62.0   \n",
      "5990  2018-07-19 00:00:00    00104002228   861435     缬沙坦胶囊(代文)   5.0  179.0   \n",
      "\n",
      "       实收金额  \n",
      "0      69.0  \n",
      "3436    3.0  \n",
      "1190  145.0  \n",
      "3859   92.5  \n",
      "3888   23.0  \n",
      "...     ...  \n",
      "2122   29.6  \n",
      "5882   16.8  \n",
      "4462   30.0  \n",
      "864    56.0  \n",
      "5990  171.4  \n",
      "\n",
      "[6549 rows x 7 columns]>\n"
     ]
    },
    {
     "data": {
      "text/html": [
       "<div>\n",
       "<style scoped>\n",
       "    .dataframe tbody tr th:only-of-type {\n",
       "        vertical-align: middle;\n",
       "    }\n",
       "\n",
       "    .dataframe tbody tr th {\n",
       "        vertical-align: top;\n",
       "    }\n",
       "\n",
       "    .dataframe thead th {\n",
       "        text-align: right;\n",
       "    }\n",
       "</style>\n",
       "<table border=\"1\" class=\"dataframe\">\n",
       "  <thead>\n",
       "    <tr style=\"text-align: right;\">\n",
       "      <th></th>\n",
       "      <th>销售数量</th>\n",
       "      <th>应收金额</th>\n",
       "      <th>实收金额</th>\n",
       "    </tr>\n",
       "  </thead>\n",
       "  <tbody>\n",
       "    <tr>\n",
       "      <th>count</th>\n",
       "      <td>6549.000000</td>\n",
       "      <td>6549.000000</td>\n",
       "      <td>6549.000000</td>\n",
       "    </tr>\n",
       "    <tr>\n",
       "      <th>mean</th>\n",
       "      <td>2.384486</td>\n",
       "      <td>50.449076</td>\n",
       "      <td>46.284370</td>\n",
       "    </tr>\n",
       "    <tr>\n",
       "      <th>std</th>\n",
       "      <td>2.375227</td>\n",
       "      <td>87.696401</td>\n",
       "      <td>81.058426</td>\n",
       "    </tr>\n",
       "    <tr>\n",
       "      <th>min</th>\n",
       "      <td>-10.000000</td>\n",
       "      <td>-374.000000</td>\n",
       "      <td>-374.000000</td>\n",
       "    </tr>\n",
       "    <tr>\n",
       "      <th>25%</th>\n",
       "      <td>1.000000</td>\n",
       "      <td>14.000000</td>\n",
       "      <td>12.320000</td>\n",
       "    </tr>\n",
       "    <tr>\n",
       "      <th>50%</th>\n",
       "      <td>2.000000</td>\n",
       "      <td>28.000000</td>\n",
       "      <td>26.500000</td>\n",
       "    </tr>\n",
       "    <tr>\n",
       "      <th>75%</th>\n",
       "      <td>2.000000</td>\n",
       "      <td>59.600000</td>\n",
       "      <td>53.000000</td>\n",
       "    </tr>\n",
       "    <tr>\n",
       "      <th>max</th>\n",
       "      <td>50.000000</td>\n",
       "      <td>2950.000000</td>\n",
       "      <td>2650.000000</td>\n",
       "    </tr>\n",
       "  </tbody>\n",
       "</table>\n",
       "</div>"
      ],
      "text/plain": [
       "              销售数量         应收金额         实收金额\n",
       "count  6549.000000  6549.000000  6549.000000\n",
       "mean      2.384486    50.449076    46.284370\n",
       "std       2.375227    87.696401    81.058426\n",
       "min     -10.000000  -374.000000  -374.000000\n",
       "25%       1.000000    14.000000    12.320000\n",
       "50%       2.000000    28.000000    26.500000\n",
       "75%       2.000000    59.600000    53.000000\n",
       "max      50.000000  2950.000000  2650.000000"
      ]
     },
     "execution_count": 15,
     "metadata": {},
     "output_type": "execute_result"
    }
   ],
   "source": [
    "df = df.sort_values(by='销售时间',ascending=True)\n",
    "print(df.head)\n",
    "\n",
    "# 重命名行名（index）\n",
    "df = df.reset_index(drop=True)\n",
    "df.describe()"
   ]
  },
  {
   "cell_type": "code",
   "execution_count": 16,
   "id": "2c2c53b7-10a4-4d52-b105-4f7870d98601",
   "metadata": {},
   "outputs": [
    {
     "data": {
      "text/html": [
       "<div>\n",
       "<style scoped>\n",
       "    .dataframe tbody tr th:only-of-type {\n",
       "        vertical-align: middle;\n",
       "    }\n",
       "\n",
       "    .dataframe tbody tr th {\n",
       "        vertical-align: top;\n",
       "    }\n",
       "\n",
       "    .dataframe thead th {\n",
       "        text-align: right;\n",
       "    }\n",
       "</style>\n",
       "<table border=\"1\" class=\"dataframe\">\n",
       "  <thead>\n",
       "    <tr style=\"text-align: right;\">\n",
       "      <th></th>\n",
       "      <th>销售数量</th>\n",
       "      <th>应收金额</th>\n",
       "      <th>实收金额</th>\n",
       "    </tr>\n",
       "  </thead>\n",
       "  <tbody>\n",
       "    <tr>\n",
       "      <th>count</th>\n",
       "      <td>6506.000000</td>\n",
       "      <td>6506.000000</td>\n",
       "      <td>6506.000000</td>\n",
       "    </tr>\n",
       "    <tr>\n",
       "      <th>mean</th>\n",
       "      <td>2.405626</td>\n",
       "      <td>50.927897</td>\n",
       "      <td>46.727653</td>\n",
       "    </tr>\n",
       "    <tr>\n",
       "      <th>std</th>\n",
       "      <td>2.364565</td>\n",
       "      <td>87.650282</td>\n",
       "      <td>80.997726</td>\n",
       "    </tr>\n",
       "    <tr>\n",
       "      <th>min</th>\n",
       "      <td>1.000000</td>\n",
       "      <td>1.200000</td>\n",
       "      <td>0.030000</td>\n",
       "    </tr>\n",
       "    <tr>\n",
       "      <th>25%</th>\n",
       "      <td>1.000000</td>\n",
       "      <td>14.000000</td>\n",
       "      <td>12.600000</td>\n",
       "    </tr>\n",
       "    <tr>\n",
       "      <th>50%</th>\n",
       "      <td>2.000000</td>\n",
       "      <td>28.000000</td>\n",
       "      <td>27.000000</td>\n",
       "    </tr>\n",
       "    <tr>\n",
       "      <th>75%</th>\n",
       "      <td>2.000000</td>\n",
       "      <td>59.600000</td>\n",
       "      <td>53.000000</td>\n",
       "    </tr>\n",
       "    <tr>\n",
       "      <th>max</th>\n",
       "      <td>50.000000</td>\n",
       "      <td>2950.000000</td>\n",
       "      <td>2650.000000</td>\n",
       "    </tr>\n",
       "  </tbody>\n",
       "</table>\n",
       "</div>"
      ],
      "text/plain": [
       "              销售数量         应收金额         实收金额\n",
       "count  6506.000000  6506.000000  6506.000000\n",
       "mean      2.405626    50.927897    46.727653\n",
       "std       2.364565    87.650282    80.997726\n",
       "min       1.000000     1.200000     0.030000\n",
       "25%       1.000000    14.000000    12.600000\n",
       "50%       2.000000    28.000000    27.000000\n",
       "75%       2.000000    59.600000    53.000000\n",
       "max      50.000000  2950.000000  2650.000000"
      ]
     },
     "execution_count": 16,
     "metadata": {},
     "output_type": "execute_result"
    }
   ],
   "source": [
    "pop = df.loc[:, \"销售数量\"] > 0\n",
    "df = df.loc[pop, :]\n",
    "df.describe()"
   ]
  },
  {
   "cell_type": "code",
   "execution_count": 17,
   "id": "1e70b7e5-50a6-494e-87ca-b5b62f07768a",
   "metadata": {},
   "outputs": [
    {
     "name": "stdout",
     "output_type": "stream",
     "text": [
      "总消费次数： 5342\n"
     ]
    },
    {
     "data": {
      "text/html": [
       "<div>\n",
       "<style scoped>\n",
       "    .dataframe tbody tr th:only-of-type {\n",
       "        vertical-align: middle;\n",
       "    }\n",
       "\n",
       "    .dataframe tbody tr th {\n",
       "        vertical-align: top;\n",
       "    }\n",
       "\n",
       "    .dataframe thead th {\n",
       "        text-align: right;\n",
       "    }\n",
       "</style>\n",
       "<table border=\"1\" class=\"dataframe\">\n",
       "  <thead>\n",
       "    <tr style=\"text-align: right;\">\n",
       "      <th></th>\n",
       "      <th>销售时间</th>\n",
       "      <th>社保卡号</th>\n",
       "      <th>商品编码</th>\n",
       "      <th>商品名称</th>\n",
       "      <th>销售数量</th>\n",
       "      <th>应收金额</th>\n",
       "      <th>实收金额</th>\n",
       "    </tr>\n",
       "  </thead>\n",
       "  <tbody>\n",
       "    <tr>\n",
       "      <th>0</th>\n",
       "      <td>2018-01-01 00:00:00</td>\n",
       "      <td>001616528</td>\n",
       "      <td>236701</td>\n",
       "      <td>强力VC银翘片</td>\n",
       "      <td>6.0</td>\n",
       "      <td>82.8</td>\n",
       "      <td>69.0</td>\n",
       "    </tr>\n",
       "    <tr>\n",
       "      <th>1</th>\n",
       "      <td>2018-01-01 00:00:00</td>\n",
       "      <td>0010616728</td>\n",
       "      <td>865099</td>\n",
       "      <td>硝苯地平片(心痛定)</td>\n",
       "      <td>2.0</td>\n",
       "      <td>3.4</td>\n",
       "      <td>3.0</td>\n",
       "    </tr>\n",
       "    <tr>\n",
       "      <th>2</th>\n",
       "      <td>2018-01-01 00:00:00</td>\n",
       "      <td>0010073966328</td>\n",
       "      <td>861409</td>\n",
       "      <td>非洛地平缓释片(波依定)</td>\n",
       "      <td>5.0</td>\n",
       "      <td>162.5</td>\n",
       "      <td>145.0</td>\n",
       "    </tr>\n",
       "    <tr>\n",
       "      <th>3</th>\n",
       "      <td>2018-01-01 00:00:00</td>\n",
       "      <td>0010073966328</td>\n",
       "      <td>866634</td>\n",
       "      <td>硝苯地平控释片(欣然)</td>\n",
       "      <td>6.0</td>\n",
       "      <td>111.0</td>\n",
       "      <td>92.5</td>\n",
       "    </tr>\n",
       "    <tr>\n",
       "      <th>4</th>\n",
       "      <td>2018-01-01 00:00:00</td>\n",
       "      <td>0010014289328</td>\n",
       "      <td>866851</td>\n",
       "      <td>缬沙坦分散片(易达乐)</td>\n",
       "      <td>1.0</td>\n",
       "      <td>26.0</td>\n",
       "      <td>23.0</td>\n",
       "    </tr>\n",
       "    <tr>\n",
       "      <th>...</th>\n",
       "      <td>...</td>\n",
       "      <td>...</td>\n",
       "      <td>...</td>\n",
       "      <td>...</td>\n",
       "      <td>...</td>\n",
       "      <td>...</td>\n",
       "      <td>...</td>\n",
       "    </tr>\n",
       "    <tr>\n",
       "      <th>6544</th>\n",
       "      <td>2018-07-19 00:00:00</td>\n",
       "      <td>0010081634128</td>\n",
       "      <td>861459</td>\n",
       "      <td>吲达帕胺片(寿比山)</td>\n",
       "      <td>2.0</td>\n",
       "      <td>33.0</td>\n",
       "      <td>29.6</td>\n",
       "    </tr>\n",
       "    <tr>\n",
       "      <th>6545</th>\n",
       "      <td>2018-07-19 00:00:00</td>\n",
       "      <td>001616528</td>\n",
       "      <td>861485</td>\n",
       "      <td>富马酸比索洛尔片(博苏)</td>\n",
       "      <td>1.0</td>\n",
       "      <td>16.8</td>\n",
       "      <td>16.8</td>\n",
       "    </tr>\n",
       "    <tr>\n",
       "      <th>6546</th>\n",
       "      <td>2018-07-19 00:00:00</td>\n",
       "      <td>0010014256528</td>\n",
       "      <td>871158</td>\n",
       "      <td>厄贝沙坦片(吉加)</td>\n",
       "      <td>2.0</td>\n",
       "      <td>34.0</td>\n",
       "      <td>30.0</td>\n",
       "    </tr>\n",
       "    <tr>\n",
       "      <th>6547</th>\n",
       "      <td>2018-07-19 00:00:00</td>\n",
       "      <td>00101409528</td>\n",
       "      <td>2367011</td>\n",
       "      <td>开博通</td>\n",
       "      <td>2.0</td>\n",
       "      <td>62.0</td>\n",
       "      <td>56.0</td>\n",
       "    </tr>\n",
       "    <tr>\n",
       "      <th>6548</th>\n",
       "      <td>2018-07-19 00:00:00</td>\n",
       "      <td>00104002228</td>\n",
       "      <td>861435</td>\n",
       "      <td>缬沙坦胶囊(代文)</td>\n",
       "      <td>5.0</td>\n",
       "      <td>179.0</td>\n",
       "      <td>171.4</td>\n",
       "    </tr>\n",
       "  </tbody>\n",
       "</table>\n",
       "<p>6506 rows × 7 columns</p>\n",
       "</div>"
      ],
      "text/plain": [
       "                     销售时间           社保卡号     商品编码          商品名称  销售数量   应收金额  \\\n",
       "0     2018-01-01 00:00:00      001616528   236701       强力VC银翘片   6.0   82.8   \n",
       "1     2018-01-01 00:00:00     0010616728   865099    硝苯地平片(心痛定)   2.0    3.4   \n",
       "2     2018-01-01 00:00:00  0010073966328   861409  非洛地平缓释片(波依定)   5.0  162.5   \n",
       "3     2018-01-01 00:00:00  0010073966328   866634   硝苯地平控释片(欣然)   6.0  111.0   \n",
       "4     2018-01-01 00:00:00  0010014289328   866851   缬沙坦分散片(易达乐)   1.0   26.0   \n",
       "...                   ...            ...      ...           ...   ...    ...   \n",
       "6544  2018-07-19 00:00:00  0010081634128   861459    吲达帕胺片(寿比山)   2.0   33.0   \n",
       "6545  2018-07-19 00:00:00      001616528   861485  富马酸比索洛尔片(博苏)   1.0   16.8   \n",
       "6546  2018-07-19 00:00:00  0010014256528   871158     厄贝沙坦片(吉加)   2.0   34.0   \n",
       "6547  2018-07-19 00:00:00    00101409528  2367011           开博通   2.0   62.0   \n",
       "6548  2018-07-19 00:00:00    00104002228   861435     缬沙坦胶囊(代文)   5.0  179.0   \n",
       "\n",
       "       实收金额  \n",
       "0      69.0  \n",
       "1       3.0  \n",
       "2     145.0  \n",
       "3      92.5  \n",
       "4      23.0  \n",
       "...     ...  \n",
       "6544   29.6  \n",
       "6545   16.8  \n",
       "6546   30.0  \n",
       "6547   56.0  \n",
       "6548  171.4  \n",
       "\n",
       "[6506 rows x 7 columns]"
      ]
     },
     "execution_count": 17,
     "metadata": {},
     "output_type": "execute_result"
    }
   ],
   "source": [
    "# 删除重复数据（根据 销售时间 和 社保卡号 两列的组合来判断哪些行是重复的）\n",
    "kpi1_df = df.drop_duplicates(subset=['销售时间', '社保卡号'])\n",
    "totall = kpi1_df.shape[0]\n",
    "print('总消费次数：', totall)\n",
    "kpi1_df = kpi1_df.sort_values(by='销售时间', ascending=True)\n",
    "kpi1_df = kpi1_df.reset_index(drop=True)\n",
    "df"
   ]
  },
  {
   "cell_type": "code",
   "execution_count": 18,
   "id": "c6d6c739-5a0d-4c9f-bd00-6624f7bc5664",
   "metadata": {},
   "outputs": [],
   "source": [
    "startTime = kpi1_df.loc[0, '销售时间']\n",
    "endTime = kpi1_df.loc[totall - 1, '销售时间']"
   ]
  },
  {
   "cell_type": "code",
   "execution_count": 19,
   "id": "d7750d83-0128-4fc3-832a-2d24720959e3",
   "metadata": {},
   "outputs": [
    {
     "name": "stdout",
     "output_type": "stream",
     "text": [
      "月份数： 6\n",
      "业务指标1：月均消费次数= 890\n"
     ]
    }
   ],
   "source": [
    "daysI = (endTime - startTime).days\n",
    "monthsI = daysI // 30\n",
    "print('月份数：', monthsI)\n",
    "kpi1_I = totall // monthsI\n",
    "print('业务指标1：月均消费次数=', kpi1_I)\n",
    "totalMoneyF = df.loc[:, '实收金额'].sum()"
   ]
  },
  {
   "cell_type": "code",
   "execution_count": 20,
   "id": "f279735e-f018-49bd-b817-67478e7f1293",
   "metadata": {},
   "outputs": [
    {
     "name": "stdout",
     "output_type": "stream",
     "text": [
      "业务指标2：月均消费金额= 50668.35166666666\n",
      "业务指标3：客单价= 56.909417821040805\n"
     ]
    }
   ],
   "source": [
    "monthMoneyF = totalMoneyF / monthsI\n",
    "print('业务指标2：月均消费金额=', monthMoneyF)\n",
    "pct = totalMoneyF / totall\n",
    "print('业务指标3：客单价=', pct)"
   ]
  },
  {
   "cell_type": "code",
   "execution_count": 21,
   "id": "dc7fb626-976d-4fbf-abaa-af063199d291",
   "metadata": {},
   "outputs": [],
   "source": [
    "import matplotlib.pyplot as plt\n",
    "from pylab import mpl\n",
    "mpl.rcParams['font.sans-serif'] = ['SimHei']"
   ]
  },
  {
   "cell_type": "code",
   "execution_count": 22,
   "id": "5133d5f7-352e-4d93-bd24-9f4cd7bd2095",
   "metadata": {},
   "outputs": [],
   "source": [
    "#备份\n",
    "groupdf = df"
   ]
  },
  {
   "cell_type": "code",
   "execution_count": 23,
   "id": "b62b1d62-466f-4bad-b0d0-3b62f5e05602",
   "metadata": {},
   "outputs": [
    {
     "data": {
      "image/png": "[encoded data removed]",
      "text/plain": [
       "<Figure size 640x480 with 1 Axes>"
      ]
     },
     "metadata": {},
     "output_type": "display_data"
    }
   ],
   "source": [
    "groupdf.index = groupdf['销售时间']\n",
    "groupdf.head()\n",
    "plt.plot(groupdf['实收金额'])\n",
    "plt.title('按天消费金额图')\n",
    "plt.xlabel('时间')\n",
    "plt.ylabel('实收金额')\n",
    "plt.savefig('./day.png')\n",
    "plt.show()"
   ]
  },
  {
   "cell_type": "code",
   "execution_count": 25,
   "id": "1cda6ba4-7a76-4859-9092-ebf4d0bbf655",
   "metadata": {},
   "outputs": [],
   "source": [
    "gb = groupdf.groupby(groupdf.index.month)\n",
    "monthdf = gb.sum(numeric_only=True)"
   ]
  },
  {
   "cell_type": "code",
   "execution_count": 26,
   "id": "31920d36-7130-49c3-a4e7-7f8dd6dd29a7",
   "metadata": {},
   "outputs": [
    {
     "data": {
      "image/png": "[encoded data removed]",
      "text/plain": [
       "<Figure size 640x480 with 1 Axes>"
      ]
     },
     "metadata": {},
     "output_type": "display_data"
    }
   ],
   "source": [
    "plt.plot(monthdf['实收金额'])\n",
    "plt.title('按月消费金额图')\n",
    "plt.xlabel('月份')\n",
    "plt.ylabel('实收金额')\n",
    "plt.savefig('./month.png')\n",
    "plt.show()"
   ]
  },
  {
   "cell_type": "code",
   "execution_count": 29,
   "id": "862367bb-dbb8-4727-bc3d-5bc548b9b42b",
   "metadata": {},
   "outputs": [
    {
     "name": "stdout",
     "output_type": "stream",
     "text": [
      "                  销售数量\n",
      "商品名称                  \n",
      "**盐酸阿罗洛尔片(阿尔马尔)  101.0\n",
      "**阿替洛尔片           17.0\n",
      "D厄贝沙坦氢氯噻嗪片(倍悦)     2.0\n",
      "D替格瑞洛片            10.0\n",
      "D盐酸贝尼地平片          33.0\n",
      "...                ...\n",
      "非洛地平缓释片(康宝得维)     99.0\n",
      "非洛地平缓释片(波依定)     375.0\n",
      "马来酸依那普利片(怡那林)     28.0\n",
      "马来酸左旋氨氯地平片(玄宁)    43.0\n",
      "高特灵              366.0\n",
      "\n",
      "[78 rows x 1 columns]\n",
      "                  销售数量\n",
      "商品名称                  \n",
      "苯磺酸氨氯地平片(安内真)   1781.0\n",
      "开博通             1440.0\n",
      "酒石酸美托洛尔片(倍他乐克)  1140.0\n",
      "硝苯地平片(心痛定)       825.0\n",
      "苯磺酸氨氯地平片(络活喜)    796.0\n"
     ]
    }
   ],
   "source": [
    "medicine = groupdf[['商品名称', '销售数量']]\n",
    "bk = medicine.groupby('商品名称')[['销售数量']]\n",
    "re_medicine = bk.sum()\n",
    "print(re_medicine)\n",
    "re_medicine = re_medicine.sort_values(by='销售数量', ascending=False)\n",
    "print(re_medicine.head())\n",
    "top_medicine = re_medicine.iloc[:10, :]"
   ]
  },
  {
   "cell_type": "code",
   "execution_count": 30,
   "id": "ded428db-788c-47b8-ba26-7078273be719",
   "metadata": {},
   "outputs": [
    {
     "data": {
      "image/png": "[encoded data removed]",
      "text/plain": [
       "<Figure size 640x480 with 1 Axes>"
      ]
     },
     "metadata": {},
     "output_type": "display_data"
    }
   ],
   "source": [
    "top_medicine.plot(kind='bar')\n",
    "plt.title('药品销售前十情况')\n",
    "plt.xlabel('药品种类')\n",
    "plt.ylabel('销售数量')\n",
    "plt.legend(loc=0)\n",
    "plt.savefig('./medicine.png')\n",
    "plt.show()"
   ]
  },
  {
   "cell_type": "code",
   "execution_count": null,
   "id": "12649bb7-9679-4ff8-ae74-bc9188d9e4be",
   "metadata": {},
   "outputs": [],
   "source": []
  }
 ],
 "metadata": {
  "kernelspec": {
   "display_name": "Python 3 (ipykernel)",
   "language": "python",
   "name": "python3"
  },
  "language_info": {
   "codemirror_mode": {
    "name": "ipython",
    "version": 3
   },
   "file_extension": ".py",
   "mimetype": "text/x-python",
   "name": "python",
   "nbconvert_exporter": "python",
   "pygments_lexer": "ipython3",
   "version": "3.11.7"
  }
 },
 "nbformat": 4,
 "nbformat_minor": 5
}
