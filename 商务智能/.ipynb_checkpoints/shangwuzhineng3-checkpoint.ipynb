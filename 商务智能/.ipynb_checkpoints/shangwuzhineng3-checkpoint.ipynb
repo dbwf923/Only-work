{
 "cells": [
  {
   "cell_type": "code",
   "execution_count": 1,
   "id": "63442fa6-fb8e-496d-9f22-b2c06d559d7d",
   "metadata": {},
   "outputs": [],
   "source": [
    "import pandas as pd\n",
    "from apyori import apriori\n",
    "import pyfpgrowth"
   ]
  },
  {
   "cell_type": "code",
   "execution_count": 2,
   "id": "1709ea47-c16d-4bfa-801d-b72b19215999",
   "metadata": {},
   "outputs": [],
   "source": [
    "data = pd.read_excel('C:\\\\Users\\\\moon\\\\Downloads\\\\超市销售关联.xlsx',header=None)"
   ]
  },
  {
   "cell_type": "code",
   "execution_count": 3,
   "id": "f1de6940-d113-47be-8cc1-d4951c8cd166",
   "metadata": {},
   "outputs": [],
   "source": [
    "inputList = data.values.tolist()\n",
    "header = ['A', 'B', 'C', 'D', 'E', 'F', 'G', 'H', 'I', 'J', 'K']\n",
    "itemList = []"
   ]
  },
  {
   "cell_type": "code",
   "execution_count": 4,
   "id": "14231bd8-19fb-4ecc-ab2a-4bceb92724d9",
   "metadata": {},
   "outputs": [],
   "source": [
    "for item in inputList:\n",
    "    cur = []\n",
    "    for i in range(len(item)):\n",
    "        if item[i] =='T':\n",
    "            cur.append(header[i])\n",
    "    itemList.append(cur)\n"
   ]
  },
  {
   "cell_type": "code",
   "execution_count": 7,
   "id": "2cb4a580-b7eb-432e-afab-8d245813f93c",
   "metadata": {},
   "outputs": [],
   "source": [
    "def apriori_method(data,min_support, min_confidence, min_lift, max_length):\n",
    "    associate_rules = apriori(data,min_support = min_support ,min_confidence = min_confidence, min_lift = min_lift, max_length = max_length)\n",
    "    for rule in associate_rules:\n",
    "        print(\"频繁项集 %s，支持度 %f\" % (rule.items, rule.support))\n",
    "        for item in rule.ordered_statistics:\n",
    "            print(\"%s -> %s, 置信度 %f 提升度 %f\" %(item.items_base, item.items_add, item.confidence, item.lift))\n",
    "            print()"
   ]
  },
  {
   "cell_type": "code",
   "execution_count": 18,
   "id": "1be0ad8c-469e-44fc-b7d3-b0a745740161",
   "metadata": {},
   "outputs": [],
   "source": [
    "def fpgrowth_method(data, min_support ,min_confidence):\n",
    "    patterns = pyfpgrowth.find_frequent_patterns(data,min_support)\n",
    "    rules = pyfpgrowth.generate_association_rules(patterns, min_confidence)\n",
    "    print(rules)\n",
    "    for i in rules:\n",
    "        print(\"%s -> %s 置信度 %f\" % (i, rules[i][0], rules[i][1]))"
   ]
  },
  {
   "cell_type": "code",
   "execution_count": 11,
   "id": "a64dbf31-dd86-4768-8c4e-55bef74d637d",
   "metadata": {},
   "outputs": [],
   "source": [
    "min_support = 0.1\n",
    "min_confidence = 0.5\n",
    "min_lift = 0.0\n",
    "max_length = 3"
   ]
  },
  {
   "cell_type": "code",
   "execution_count": 12,
   "id": "eaaff6fc-d72e-49f7-88a8-678368836c92",
   "metadata": {},
   "outputs": [
    {
     "name": "stdout",
     "output_type": "stream",
     "text": [
      "频繁项集 frozenset({'J', 'A'})，支持度 0.189295\n",
      "frozenset({'A'}) -> frozenset({'J'}), 置信度 0.514184 提升度 1.458760\n",
      "\n",
      "frozenset({'J'}) -> frozenset({'A'}), 置信度 0.537037 提升度 1.458760\n",
      "\n",
      "频繁项集 frozenset({'D', 'F'})，支持度 0.225849\n",
      "frozenset({'D'}) -> frozenset({'F'}), 置信度 0.604895 提升度 1.597757\n",
      "\n",
      "frozenset({'F'}) -> frozenset({'D'}), 置信度 0.596552 提升度 1.597757\n",
      "\n",
      "频繁项集 frozenset({'D', 'G'})，支持度 0.218016\n",
      "frozenset({'D'}) -> frozenset({'G'}), 置信度 0.583916 提升度 1.650479\n",
      "\n",
      "frozenset({'G'}) -> frozenset({'D'}), 置信度 0.616236 提升度 1.650479\n",
      "\n",
      "频繁项集 frozenset({'F', 'G'})，支持度 0.221932\n",
      "frozenset({'F'}) -> frozenset({'G'}), 置信度 0.586207 提升度 1.656954\n",
      "\n",
      "frozenset({'G'}) -> frozenset({'F'}), 置信度 0.627306 提升度 1.656954\n",
      "\n",
      "频繁项集 frozenset({'K', 'H'})，支持度 0.187990\n",
      "frozenset({'H'}) -> frozenset({'K'}), 置信度 0.533333 提升度 1.530087\n",
      "\n",
      "frozenset({'K'}) -> frozenset({'H'}), 置信度 0.539326 提升度 1.530087\n",
      "\n",
      "频繁项集 frozenset({'D', 'F', 'G'})，支持度 0.190601\n",
      "frozenset({'D'}) -> frozenset({'F', 'G'}), 置信度 0.510490 提升度 2.300206\n",
      "\n",
      "frozenset({'F'}) -> frozenset({'D', 'G'}), 置信度 0.503448 提升度 2.309230\n",
      "\n",
      "frozenset({'G'}) -> frozenset({'D', 'F'}), 置信度 0.538745 提升度 2.385428\n",
      "\n",
      "frozenset({'D', 'F'}) -> frozenset({'G'}), 置信度 0.843931 提升度 2.385428\n",
      "\n",
      "frozenset({'D', 'G'}) -> frozenset({'F'}), 置信度 0.874251 提升度 2.309230\n",
      "\n",
      "frozenset({'F', 'G'}) -> frozenset({'D'}), 置信度 0.858824 提升度 2.300206\n",
      "\n"
     ]
    }
   ],
   "source": [
    "apriori_method(itemList, min_support, min_confidence, min_lift, max_length)"
   ]
  },
  {
   "cell_type": "code",
   "execution_count": 20,
   "id": "c95adb72-f5ef-4e12-9d9a-f79c56562fa3",
   "metadata": {},
   "outputs": [],
   "source": [
    "#fpgrowth_method(itemList, min_support, min_confidence)"
   ]
  },
  {
   "cell_type": "code",
   "execution_count": 22,
   "id": "59782381-241e-47ab-9275-b6effc2007de",
   "metadata": {},
   "outputs": [],
   "source": [
    "itemList1 = [['A','B','C'],['A','C'],['A','D'],['B','C','E'],['B','C']]"
   ]
  },
  {
   "cell_type": "code",
   "execution_count": 23,
   "id": "bb335e7b-9f61-48b5-808c-3b8bbb6c8a11",
   "metadata": {},
   "outputs": [],
   "source": [
    "min_support = 0.3\n",
    "min_confidence = 0.7\n",
    "min_lift = 1\n",
    "max_length = 3"
   ]
  },
  {
   "cell_type": "code",
   "execution_count": 24,
   "id": "ce63dc29-98f2-42a3-80d4-e520fd9ca806",
   "metadata": {},
   "outputs": [
    {
     "name": "stdout",
     "output_type": "stream",
     "text": [
      "频繁项集 frozenset({'C'})，支持度 0.800000\n",
      "frozenset() -> frozenset({'C'}), 置信度 0.800000 提升度 1.000000\n",
      "\n",
      "频繁项集 frozenset({'C', 'B'})，支持度 0.600000\n",
      "frozenset({'B'}) -> frozenset({'C'}), 置信度 1.000000 提升度 1.250000\n",
      "\n",
      "frozenset({'C'}) -> frozenset({'B'}), 置信度 0.750000 提升度 1.250000\n",
      "\n"
     ]
    }
   ],
   "source": [
    "apriori_method(itemList1, min_support, min_confidence, min_lift, max_length)"
   ]
  },
  {
   "cell_type": "code",
   "execution_count": null,
   "id": "4b38e455-f4a5-4389-84e7-7726531bc547",
   "metadata": {},
   "outputs": [],
   "source": []
  }
 ],
 "metadata": {
  "kernelspec": {
   "display_name": "Python 3",
   "language": "python",
   "name": "python3"
  },
  "language_info": {
   "codemirror_mode": {
    "name": "ipython",
    "version": 3
   },
   "file_extension": ".py",
   "mimetype": "text/x-python",
   "name": "python",
   "nbconvert_exporter": "python",
   "pygments_lexer": "ipython3",
   "version": "3.8.8"
  }
 },
 "nbformat": 4,
 "nbformat_minor": 5
}
