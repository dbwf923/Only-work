{
 "cells": [
  {
   "cell_type": "code",
   "execution_count": 1,
   "id": "b23c3b77-ca32-4a3a-a7ed-c7d4a6721104",
   "metadata": {},
   "outputs": [],
   "source": [
    "from sklearn.svm import SVC # 导入支持向量机分类器\n",
    "from sklearn.utils import shuffle # 用于打乱数据\n",
    "import pandas as pd\n",
    "import numpy as np\n",
    "from sklearn.model_selection import KFold # 用于实现K折交叉验证\n",
    "import matplotlib.pyplot as plt\n",
    "\n",
    "plt.rcParams['font.sans-serif'] = ['SimHei']"
   ]
  },
  {
   "cell_type": "code",
   "execution_count": 2,
   "id": "6842e85a-e7ab-4dc5-a5e1-d954dced6d1c",
   "metadata": {},
   "outputs": [
    {
     "name": "stdout",
     "output_type": "stream",
     "text": [
      "读取训练集与测试集文件\n"
     ]
    }
   ],
   "source": [
    "print(\"读取训练集与测试集文件\")\n",
    "df = pd.read_csv(\"./data/select-data.csv\")\n",
    "df_test = pd.read_csv(\"./data/scalar-test.csv\")"
   ]
  },
  {
   "cell_type": "code",
   "execution_count": 3,
   "id": "a9229056-0b09-4169-8c11-ba9ff61a8416",
   "metadata": {},
   "outputs": [
    {
     "name": "stdout",
     "output_type": "stream",
     "text": [
      "构建训练集特征和目标向量\n"
     ]
    }
   ],
   "source": [
    "print(\"构建训练集特征和目标向量\")\n",
    "train = []\n",
    "target = []\n",
    "for i in range(0, len(df[\"EstimatedSalary\"])):\n",
    "    mid = []\n",
    "    mid.append(df[\"Geography\"][i]) # 地理位置\n",
    "    mid.append(df[\"Gender\"][i]) # 性别\n",
    "    mid.append(df[\"EB\"][i]) # 是否是企业客户\n",
    "    mid.append(df[\"Age\"][i]) # 年龄\n",
    "    mid.append(df[\"EstimatedSalary\"][i]) # 估计薪资\n",
    "    mid.append(df[\"NumOfProducts\"][i]) # 产品数量\n",
    "    mid.append(df[\"CreditScore\"][i]) # 信用评分\n",
    "    mid.append(df[\"Tenure\"][i]) # 客户忠诚度（年限）\n",
    "    mid.append(df[\"HasCrCard\"][i]) # 是否拥有信用卡\n",
    "    mid.append(df[\"IsActiveMember\"][i]) # 是否为活跃会员\n",
    "    target.append(df[\"Exited\"][i]) # 是否流失\n",
    "    train.append(mid)\n",
    "train = np.array(train)\n",
    "target = np.array(target)"
   ]
  },
  {
   "cell_type": "code",
   "execution_count": 4,
   "id": "8c7d3d6d-1e06-460b-b233-86fbc151e016",
   "metadata": {},
   "outputs": [
    {
     "name": "stdout",
     "output_type": "stream",
     "text": [
      "构建测试集特征和目标向量\n"
     ]
    }
   ],
   "source": [
    "print(\"构建测试集特征和目标向量\")\n",
    "test = []\n",
    "test_target = []\n",
    "for i in range(0, len(df_test[\"EstimatedSalary\"])):\n",
    "    mid = []\n",
    "    mid.append(df_test[\"Geography\"][i]) # 地理位置\n",
    "    mid.append(df_test[\"Gender\"][i]) # 性别\n",
    "    mid.append(df_test[\"EB\"][i]) # 是否是企业客户\n",
    "    mid.append(df_test[\"Age\"][i]) # 年龄\n",
    "    mid.append(df_test[\"EstimatedSalary\"][i]) # 估计薪资\n",
    "    mid.append(df_test[\"NumOfProducts\"][i]) # 产品数量\n",
    "    mid.append(df_test[\"CreditScore\"][i]) # 信用评分\n",
    "    mid.append(df_test[\"Tenure\"][i]) # 客户忠诚度（年限）\n",
    "    mid.append(df_test[\"HasCrCard\"][i]) # 是否拥有信用卡\n",
    "    mid.append(df_test[\"IsActiveMember\"][i]) # 是否为活跃会员\n",
    "    test_target.append(df_test[\"Exited\"][i]) # 是否流失\n",
    "    test.append(mid)\n",
    "test = np.array(test)"
   ]
  },
  {
   "cell_type": "code",
   "execution_count": 5,
   "id": "e2208c50-68c6-48d1-9c88-835e0781a6fe",
   "metadata": {},
   "outputs": [
    {
     "name": "stdout",
     "output_type": "stream",
     "text": [
      "随机打乱训练集数据\n"
     ]
    }
   ],
   "source": [
    "print(\"随机打乱训练集数据\")\n",
    "train, target = shuffle(train, target)"
   ]
  },
  {
   "cell_type": "code",
   "execution_count": 6,
   "id": "d5987a67-3a6a-4b03-9404-883c961bdbff",
   "metadata": {},
   "outputs": [
    {
     "name": "stdout",
     "output_type": "stream",
     "text": [
      "构建K折交叉验证\n"
     ]
    }
   ],
   "source": [
    "print(\"构建K折交叉验证\")\n",
    "index = [] # 用于存储每次训练的索引\n",
    "value = [] # 用于存储每次训练的准确率\n",
    "i = 1 # 训练轮次计数器\n",
    "kf_size = 10 # K折交叉验证的分组数\n",
    "kf = KFold(n_splits=kf_size) # 初始化KFold对象"
   ]
  },
  {
   "cell_type": "code",
   "execution_count": 7,
   "id": "cc5cb6dc-f40e-4d2c-b9a2-13fd35ad8a62",
   "metadata": {},
   "outputs": [
    {
     "name": "stdout",
     "output_type": "stream",
     "text": [
      "开始SVM训练...........\n",
      "0.6960000\n",
      "0.6970000\n",
      "0.6930000\n",
      "0.6970000\n",
      "0.6990000\n",
      "0.6950000\n",
      "0.6910000\n",
      "0.6950000\n",
      "0.6980000\n",
      "0.6990000\n"
     ]
    }
   ],
   "source": [
    "print(\"开始SVM训练...........\")\n",
    "for train_index, test_index in kf.split(train):\n",
    "# 划分训练集和验证集\n",
    " trainx = train[train_index] # 训练数据的特征\n",
    " trainy = target[train_index] # 训练数据的目标\n",
    " testx = train[test_index] # 验证数据的特征\n",
    " testy = target[test_index] # 验证数据的目标\n",
    "\n",
    " # 初始化支持向量机模型，使用线性核，惩罚参数C=0.1\n",
    " svc = SVC(kernel='linear', C=0.1)\n",
    " clf = svc.fit(trainx, trainy) # 训练模型\n",
    "\n",
    " # 测试集上的准确率\n",
    " sc = svc.score(test, test_target)\n",
    " print('%.7f' % sc)\n",
    " index.append(i) # 记录当前轮次\n",
    " i = i + 1\n",
    " value.append(sc) # 记录当前轮次的准确率"
   ]
  },
  {
   "cell_type": "code",
   "execution_count": 12,
   "id": "58c8152e-ab2e-4c86-a195-4ad29e242e61",
   "metadata": {},
   "outputs": [
    {
     "name": "stdout",
     "output_type": "stream",
     "text": [
      "计算平均、最高和最低准确率\n",
      "avg: 69.6 maxV: 69.89999999999999 minV: 69.1\n"
     ]
    }
   ],
   "source": [
    "print(\"计算平均、最高和最低准确率\")\n",
    "avg = round(sum(value) / kf_size, 4) * 100\n",
    "maxV = round(max(value), 4) * 100\n",
    "minV = round(min(value), 4) * 100\n",
    "print('avg:',avg,'maxV:',maxV,'minV:',minV)"
   ]
  },
  {
   "cell_type": "code",
   "execution_count": 13,
   "id": "75e6ef2c-d3f5-4d91-b832-0cd5b464b288",
   "metadata": {},
   "outputs": [
    {
     "data": {
      "image/png": "[encoded data removed]",
      "text/plain": [
       "<Figure size 640x480 with 1 Axes>"
      ]
     },
     "metadata": {},
     "output_type": "display_data"
    }
   ],
   "source": [
    "# 绘制准确率折线图\n",
    "plt.title('K折交叉验证(k=' + str(kf_size) + ') avg=' + str(avg) + \"% max:\" + str(maxV) + \"% min:\" + str(minV) + \"%\")\n",
    "plt.xlabel('次数') # x轴表示训练轮次\n",
    "plt.ylabel('正确率acc') # y轴表示准确率\n",
    "plt.ylim([0.6, 0.9]) # 设置y轴范围\n",
    "plt.xlim([1, kf_size]) # 设置x轴范围\n",
    "plt.plot(index, value) # 绘制折线图\n",
    "plt.show()"
   ]
  },
  {
   "cell_type": "code",
   "execution_count": null,
   "id": "19552175-3439-4edc-a323-cb35a5d6cf89",
   "metadata": {},
   "outputs": [],
   "source": []
  }
 ],
 "metadata": {
  "kernelspec": {
   "display_name": "Python 3 (ipykernel)",
   "language": "python",
   "name": "python3"
  },
  "language_info": {
   "codemirror_mode": {
    "name": "ipython",
    "version": 3
   },
   "file_extension": ".py",
   "mimetype": "text/x-python",
   "name": "python",
   "nbconvert_exporter": "python",
   "pygments_lexer": "ipython3",
   "version": "3.11.7"
  }
 },
 "nbformat": 4,
 "nbformat_minor": 5
}
