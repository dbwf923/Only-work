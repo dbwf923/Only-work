{
 "cells": [
  {
   "cell_type": "code",
   "execution_count": 1,
   "metadata": {},
   "outputs": [],
   "source": [
    "import numpy as np\n",
    "from sklearn.model_selection import train_test_split"
   ]
  },
  {
   "cell_type": "code",
   "execution_count": 2,
   "metadata": {},
   "outputs": [
    {
     "name": "stdout",
     "output_type": "stream",
     "text": [
      "X=\n",
      " [[0 1]\n",
      " [2 3]\n",
      " [4 5]\n",
      " [6 7]\n",
      " [8 9]]\n",
      "Y=\n",
      " range(0, 5)\n"
     ]
    }
   ],
   "source": [
    "X,Y = np.arange(10).reshape(5,2),range(5)\n",
    "print('X=\\n',X)\n",
    "print('Y=\\n',Y)"
   ]
  },
  {
   "cell_type": "code",
   "execution_count": 3,
   "metadata": {},
   "outputs": [
    {
     "name": "stdout",
     "output_type": "stream",
     "text": [
      "X_train=\n",
      " [[4 5]\n",
      " [0 1]\n",
      " [6 7]]\n",
      "X_test=\n",
      " [[2 3]\n",
      " [8 9]]\n",
      "Y_train=\n",
      " [2, 0, 3]\n",
      "Y_test=\n",
      " [1, 4]\n"
     ]
    }
   ],
   "source": [
    "X_train,X_test,Y_train,Y_test = train_test_split(X,Y,test_size = 0.30,random_state = 42)\n",
    "print('X_train=\\n',X_train)\n",
    "print('X_test=\\n',X_test)\n",
    "print('Y_train=\\n',Y_train)\n",
    "print('Y_test=\\n',Y_test)"
   ]
  },
  {
   "cell_type": "code",
   "execution_count": null,
   "metadata": {},
   "outputs": [],
   "source": []
  }
 ],
 "metadata": {
  "kernelspec": {
   "display_name": "Python 3",
   "language": "python",
   "name": "python3"
  },
  "language_info": {
   "codemirror_mode": {
    "name": "ipython",
    "version": 3
   },
   "file_extension": ".py",
   "mimetype": "text/x-python",
   "name": "python",
   "nbconvert_exporter": "python",
   "pygments_lexer": "ipython3",
   "version": "3.7.6"
  }
 },
 "nbformat": 4,
 "nbformat_minor": 4
}
