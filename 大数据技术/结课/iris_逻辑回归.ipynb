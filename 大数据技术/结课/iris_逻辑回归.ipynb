{
 "cells": [
  {
   "cell_type": "code",
   "execution_count": 4,
   "id": "6fac0844-dcbe-4115-ab7c-2b3dab96619d",
   "metadata": {},
   "outputs": [],
   "source": [
    "from sklearn.model_selection import train_test_split  \n",
    "from sklearn.linear_model import LogisticRegression  \n",
    "from sklearn.metrics import accuracy_score, classification_report  \n",
    "from sklearn.datasets import load_iris  "
   ]
  },
  {
   "cell_type": "code",
   "execution_count": 5,
   "id": "1111f2ff-0b77-4d65-bfb2-aae1a3e61a02",
   "metadata": {},
   "outputs": [
    {
     "name": "stdout",
     "output_type": "stream",
     "text": [
      "Accuracy: 0.9555555555555556\n",
      "Classification Report:\n",
      "              precision    recall  f1-score   support\n",
      "\n",
      "           0       1.00      1.00      1.00        12\n",
      "           1       0.94      0.94      0.94        18\n",
      "           2       0.93      0.93      0.93        15\n",
      "\n",
      "    accuracy                           0.96        45\n",
      "   macro avg       0.96      0.96      0.96        45\n",
      "weighted avg       0.96      0.96      0.96        45\n",
      "\n"
     ]
    }
   ],
   "source": [
    "# 加载鸢尾花数据集（这是一个多分类问题的经典数据集）  \n",
    "iris = load_iris()  \n",
    "X = iris.data  \n",
    "y = iris.target  \n",
    "  \n",
    "# 划分数据集为训练集和测试集  \n",
    "X_train, X_test, y_train, y_test = train_test_split(X, y, test_size=0.3, random_state=99)  \n",
    "  \n",
    "# 初始化逻辑回归模型，设置multi_class参数为'multinomial'以使用softmax回归  \n",
    "# 默认情况下，如果问题是多类别的，且solver是'lbfgs'，'sag'，'saga'或'newton-cg'，multi_class会被自动设置为'multinomial'  \n",
    "model = LogisticRegression(multi_class='multinomial', solver='lbfgs', random_state=42)  \n",
    "  \n",
    "# 训练模型  \n",
    "model.fit(X_train, y_train)  \n",
    "  \n",
    "# 预测测试集的结果  \n",
    "y_pred = model.predict(X_test)  \n",
    "  \n",
    "# 评估模型性能  \n",
    "print(\"Accuracy:\", accuracy_score(y_test, y_pred))  \n",
    "print(\"Classification Report:\")  \n",
    "print(classification_report(y_test, y_pred))"
   ]
  }
 ],
 "metadata": {
  "kernelspec": {
   "display_name": "Python 3 (ipykernel)",
   "language": "python",
   "name": "python3"
  },
  "language_info": {
   "codemirror_mode": {
    "name": "ipython",
    "version": 3
   },
   "file_extension": ".py",
   "mimetype": "text/x-python",
   "name": "python",
   "nbconvert_exporter": "python",
   "pygments_lexer": "ipython3",
   "version": "3.11.7"
  }
 },
 "nbformat": 4,
 "nbformat_minor": 5
}
